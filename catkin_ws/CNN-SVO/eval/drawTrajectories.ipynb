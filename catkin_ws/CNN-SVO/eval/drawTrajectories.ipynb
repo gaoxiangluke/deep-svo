{
 "cells": [
  {
   "cell_type": "code",
   "execution_count": 1,
   "metadata": {},
   "outputs": [],
   "source": [
    "import numpy as np\n",
    "import matplotlib.pyplot as plt"
   ]
  },
  {
   "cell_type": "code",
   "execution_count": 2,
   "metadata": {},
   "outputs": [],
   "source": [
    "def plot_traj(ax,stamps,traj,style,color,label):\n",
    "    # \"\"\"\n",
    "    # Plot a trajectory using matplotlib. \n",
    "    \n",
    "    # Input:\n",
    "    # ax -- the plot\n",
    "    # stamps -- time stamps (1xn)\n",
    "    # traj -- trajectory (3xn)\n",
    "    # style -- line style\n",
    "    # color -- line color\n",
    "    # label -- plot legend\n",
    "    \n",
    "    # \"\"\"\n",
    "    # stamps.sort()\n",
    "    # interval = np.median([s-t for s,t in zip(stamps[1:],stamps[:-1])])\n",
    "    # x = []\n",
    "    # y = []\n",
    "    # last = stamps[0]\n",
    "    # for i in range(len(stamps)):\n",
    "    #     if stamps[i]-last < 2*interval:\n",
    "    #         x.append(traj[0][i])\n",
    "    #         y.append(traj[1][i])\n",
    "    #     elif len(x)>0:\n",
    "    #         ax.plot(x,y,style,color=color,label=label)\n",
    "    #         label=\"\"\n",
    "    #         x=[]\n",
    "    #         y=[]\n",
    "    #     last= stamps[i]\n",
    "    # if len(x)>0:\n",
    "    #     ax.plot(x,y,style,color=color,label=label)\n",
    "    ax.plot(traj[0][:], traj[2][:],style,color=color,label=label)\n",
    "    "
   ]
  },
  {
   "cell_type": "code",
   "execution_count": 3,
   "metadata": {},
   "outputs": [
    {
     "name": "stdout",
     "output_type": "stream",
     "text": [
      "(3, 1141)\n",
      "(3, 1140)\n",
      "(3, 1130)\n"
     ]
    },
    {
     "ename": "NameError",
     "evalue": "name 'monodepth2_stamp' is not defined",
     "output_type": "error",
     "traceback": [
      "\u001b[0;31m---------------------------------------------------------------------------\u001b[0m",
      "\u001b[0;31mNameError\u001b[0m                                 Traceback (most recent call last)",
      "\u001b[0;32m/tmp/ipykernel_18382/2415275517.py\u001b[0m in \u001b[0;36m<module>\u001b[0;34m\u001b[0m\n\u001b[1;32m     44\u001b[0m \u001b[0max\u001b[0m \u001b[0;34m=\u001b[0m \u001b[0mfig\u001b[0m\u001b[0;34m.\u001b[0m\u001b[0madd_subplot\u001b[0m\u001b[0;34m(\u001b[0m\u001b[0;36m111\u001b[0m\u001b[0;34m)\u001b[0m\u001b[0;34m\u001b[0m\u001b[0;34m\u001b[0m\u001b[0m\n\u001b[1;32m     45\u001b[0m \u001b[0mplot_traj\u001b[0m\u001b[0;34m(\u001b[0m\u001b[0max\u001b[0m\u001b[0;34m,\u001b[0m\u001b[0madabin_stamp\u001b[0m\u001b[0;34m,\u001b[0m\u001b[0madabin_traj\u001b[0m\u001b[0;34m,\u001b[0m\u001b[0;34m'-'\u001b[0m\u001b[0;34m,\u001b[0m\u001b[0;34m\"blue\"\u001b[0m\u001b[0;34m,\u001b[0m\u001b[0;34m\"adabins-svo\"\u001b[0m\u001b[0;34m)\u001b[0m\u001b[0;34m\u001b[0m\u001b[0;34m\u001b[0m\u001b[0m\n\u001b[0;32m---> 46\u001b[0;31m \u001b[0mplot_traj\u001b[0m\u001b[0;34m(\u001b[0m\u001b[0max\u001b[0m\u001b[0;34m,\u001b[0m\u001b[0mmonodepth2_stamp\u001b[0m\u001b[0;34m,\u001b[0m\u001b[0mmonodepth_traj\u001b[0m\u001b[0;34m,\u001b[0m\u001b[0;34m'-'\u001b[0m\u001b[0;34m,\u001b[0m\u001b[0;34m\"red\"\u001b[0m\u001b[0;34m,\u001b[0m\u001b[0;34m\"monodepth-svo\"\u001b[0m\u001b[0;34m)\u001b[0m\u001b[0;34m\u001b[0m\u001b[0;34m\u001b[0m\u001b[0m\n\u001b[0m\u001b[1;32m     47\u001b[0m \u001b[0mplot_traj\u001b[0m\u001b[0;34m(\u001b[0m\u001b[0max\u001b[0m\u001b[0;34m,\u001b[0m\u001b[0mmidas_stamp\u001b[0m\u001b[0;34m,\u001b[0m\u001b[0mmidas_traj\u001b[0m\u001b[0;34m,\u001b[0m\u001b[0;34m'-'\u001b[0m\u001b[0;34m,\u001b[0m\u001b[0;34m\"green\"\u001b[0m\u001b[0;34m,\u001b[0m\u001b[0;34m\"midas-svo\"\u001b[0m\u001b[0;34m)\u001b[0m\u001b[0;34m\u001b[0m\u001b[0;34m\u001b[0m\u001b[0m\n\u001b[1;32m     48\u001b[0m \u001b[0mplot_traj\u001b[0m\u001b[0;34m(\u001b[0m\u001b[0max\u001b[0m\u001b[0;34m,\u001b[0m\u001b[0mmidas_stamp\u001b[0m\u001b[0;34m,\u001b[0m\u001b[0mmidas_traj\u001b[0m\u001b[0;34m,\u001b[0m\u001b[0;34m'-'\u001b[0m\u001b[0;34m,\u001b[0m\u001b[0;34m\"purple\"\u001b[0m\u001b[0;34m,\u001b[0m\u001b[0;34m\"orb_slam3\"\u001b[0m\u001b[0;34m)\u001b[0m\u001b[0;34m\u001b[0m\u001b[0;34m\u001b[0m\u001b[0m\n",
      "\u001b[0;31mNameError\u001b[0m: name 'monodepth2_stamp' is not defined"
     ]
    },
    {
     "data": {
      "image/png": "[encoded data removed]",
      "text/plain": [
       "<Figure size 432x288 with 1 Axes>"
      ]
     },
     "metadata": {
      "needs_background": "light"
     },
     "output_type": "display_data"
    }
   ],
   "source": [
    "adabins_f = open(\"./adabins_plot.data\",'r')\n",
    "adabins_line = adabins_f.readlines()\n",
    "adabin_stamp = []\n",
    "adabin_traj = np.zeros((3,0))\n",
    "for line in adabins_line:\n",
    "    line = line.split()\n",
    "    adabin_stamp.append(float(line[0]))\n",
    "    adabin_traj = np.append(adabin_traj,np.array([float(line[1]),float(line[2]),float(line[3])]).reshape(-1,1),axis = 1)\n",
    "print(adabin_traj.shape)\n",
    "\n",
    "monodepth_f = open(\"./monodepth_plot.data\",'r')\n",
    "monodepth_line = monodepth_f.readlines()\n",
    "monodepth_stamp = []\n",
    "monodepth_traj = np.zeros((3,0))\n",
    "for line in monodepth_line:\n",
    "    line = line.split()\n",
    "    monodepth_stamp.append(float(line[0]))\n",
    "    monodepth_traj = np.append(monodepth_traj,np.array([float(line[1]),float(line[2]),float(line[3])]).reshape(-1,1),axis = 1)\n",
    "print(monodepth_traj.shape)\n",
    "\n",
    "midas_f = open(\"./midas_plot.data\",'r')\n",
    "midas_line = midas_f.readlines()\n",
    "midas_stamp = []\n",
    "midas_traj = np.zeros((3,0))\n",
    "for line in midas_line:\n",
    "    line = line.split()\n",
    "    midas_stamp.append(float(line[0]))\n",
    "    midas_traj = np.append(midas_traj,np.array([float(line[1]),float(line[2]),float(line[3])]).reshape(-1,1),axis = 1)\n",
    "print(midas_traj.shape)\n",
    "\n",
    "orb_f = open(\"./orb_plot.data\",'r')\n",
    "orb_line = orb_f.readlines()\n",
    "orb_stamp = []\n",
    "orb_traj = np.zeros((3,0))\n",
    "for line in orb_line:\n",
    "    line = line.split()\n",
    "    orb_stamp.append(float(line[0]))\n",
    "    orb_traj = np.append(orb_traj,np.array([float(line[1]),float(line[2]),float(line[3])]).reshape(-1,1),axis = 1)\n",
    "\n",
    "gt_stamp = np.load(\"gt_stamp.npy\")\n",
    "gt_traj = np.load(\"gt_traj.npy\")\n",
    "\n",
    "fig = plt.figure()\n",
    "ax = fig.add_subplot(111)\n",
    "plot_traj(ax,adabin_stamp,adabin_traj,'-',\"blue\",\"adabins-svo\")\n",
    "plot_traj(ax,monodepth_stamp,monodepth_traj,'-',\"red\",\"monodepth2-svo\")\n",
    "plot_traj(ax,midas_stamp,midas_traj,'-',\"green\",\"midas-svo\")\n",
    "plot_traj(ax,midas_stamp,midas_traj,'-',\"purple\",\"orb_slam3\")\n",
    "plot_traj(ax,gt_stamp,gt_traj,'--',\"black\",\"ground_truth\")\n",
    "\n",
    "ax.legend()\n",
    "            \n",
    "ax.set_xlabel('x [m]')\n",
    "ax.set_ylabel('y [m]')"
   ]
  }
 ],
 "metadata": {
  "interpreter": {
   "hash": "77db77afcc47b8f0565802f86e869f03a7c1dda6a4363b47201fe70908d5a36b"
  },
  "kernelspec": {
   "display_name": "Python 3.9.7 ('base')",
   "language": "python",
   "name": "python3"
  },
  "language_info": {
   "codemirror_mode": {
    "name": "ipython",
    "version": 3
   },
   "file_extension": ".py",
   "mimetype": "text/x-python",
   "name": "python",
   "nbconvert_exporter": "python",
   "pygments_lexer": "ipython3",
   "version": "3.9.7"
  },
  "orig_nbformat": 4
 },
 "nbformat": 4,
 "nbformat_minor": 2
}
